{
 "cells": [
  {
   "cell_type": "markdown",
   "metadata": {},
   "source": [
    "## Prepaparation"
   ]
  },
  {
   "cell_type": "code",
   "execution_count": 1,
   "metadata": {
    "scrolled": false
   },
   "outputs": [],
   "source": [
    "import pandas as pd\n",
    "import numpy as np\n",
    "\n",
    "#model\n",
    "from sklearn import linear_model\n",
    "from sklearn.svm import SVR\n",
    "from sklearn.ensemble import RandomForestRegressor\n",
    "import xgboost as xgb\n",
    "\n",
    "#other\n",
    "from sklearn.model_selection import GridSearchCV, train_test_split\n",
    "from sklearn.metrics import mean_absolute_error\n",
    "from sklearn.model_selection import cross_val_score\n",
    "from sklearn.metrics import mean_absolute_error\n",
    "from sklearn.preprocessing import StandardScaler\n",
    "\n"
   ]
  },
  {
   "cell_type": "markdown",
   "metadata": {},
   "source": [
    "## Loading datasets"
   ]
  },
  {
   "cell_type": "code",
   "execution_count": 2,
   "metadata": {},
   "outputs": [
    {
     "name": "stdout",
     "output_type": "stream",
     "text": [
      "loading dataset...\n",
      "loading complete\n"
     ]
    }
   ],
   "source": [
    "print('loading dataset...')\n",
    "tr = pd.read_csv(\"./training_data.csv\")\n",
    "#te = pd.read_csv(\"./testing_data.csv\")\n",
    "print('loading complete')\n",
    "\n",
    "tr_label = tr['Next_Premium']\n",
    "tr_feature = tr\n",
    "drop_feature = ['Next_Premium','Prior_Policy_Number','nequipment9','Vehicle_Make_and_Model1','Distribution_Channel','Accident_Date','Claim_Number']\n",
    "for fe in drop_feature:\n",
    "    tr_feature = tr_feature.drop(fe, axis=1)\n",
    "\n",
    "tr_x, te_x, tr_y, te_y = train_test_split(tr_feature, tr_label, test_size=0.33, random_state=2018)\n",
    "\n",
    "\n",
    "scaler_x = StandardScaler().fit(tr_x)\n",
    "scalerY = StandardScaler()\n",
    "#scaler_y = StandardScaler().fit(tr_y)\n",
    "tr_x = scaler_x.transform(tr_x)\n",
    "te_x = scaler_x.transform(te_x)\n",
    "#tr_y = scaler_y.transform(tr_y)"
   ]
  },
  {
   "cell_type": "markdown",
   "metadata": {},
   "source": [
    "## SVR"
   ]
  },
  {
   "cell_type": "code",
   "execution_count": 3,
   "metadata": {},
   "outputs": [],
   "source": [
    "model_SVR = SVR()\n",
    "#model_SVR_params = {'C':[val*0.01 for val in range(1, 10)]}\n",
    "model_SVR_params = {'C':[0.1]}"
   ]
  },
  {
   "cell_type": "markdown",
   "metadata": {},
   "source": [
    "## Random forests regression"
   ]
  },
  {
   "cell_type": "code",
   "execution_count": 4,
   "metadata": {},
   "outputs": [],
   "source": [
    "model_RF = RandomForestRegressor()\n",
    "model_RF_params = {'n_jobs' : [6], 'random_state' : [2018], 'n_estimators' : [val for val in range(1, 10)], 'max_depth' : [val for val in range(1, 10)]}"
   ]
  },
  {
   "cell_type": "markdown",
   "metadata": {},
   "source": [
    "## Elastic net regression"
   ]
  },
  {
   "cell_type": "code",
   "execution_count": 5,
   "metadata": {},
   "outputs": [],
   "source": [
    "model_EN = linear_model.ElasticNet(random_state=2018, alpha=1.0)\n",
    "model_EN_params = {'alpha':[val*0.1 for val in range(1, 100)]}"
   ]
  },
  {
   "cell_type": "markdown",
   "metadata": {},
   "source": [
    "## XGB"
   ]
  },
  {
   "cell_type": "code",
   "execution_count": 9,
   "metadata": {},
   "outputs": [],
   "source": [
    "model_xgb_params = {'objective':['reg:linear'],\n",
    "                    'learning_rate': [.03, 0.05, .07],\n",
    "                    'max_depth': [val for val in range(1, 11)],\n",
    "                    'min_child_weight': [val for val in range(2, 8)],\n",
    "                    'silent': [0],\n",
    "                    'subsample': [1],\n",
    "                    'colsample_bytree': [0.7],\n",
    "                    'n_estimators': [500],\n",
    "                    'random_state': [2018],\n",
    "                    'booster': ['gblinear'],\n",
    "                    'gamma': [.1, .01, .001],\n",
    "                    }\n",
    "model_xgb = xgb.XGBRegressor(n_jobs=10)"
   ]
  },
  {
   "cell_type": "markdown",
   "metadata": {},
   "source": [
    "## Training"
   ]
  },
  {
   "cell_type": "code",
   "execution_count": null,
   "metadata": {},
   "outputs": [
    {
     "name": "stdout",
     "output_type": "stream",
     "text": [
      "predicting...\n",
      "Fitting 3 folds for each of 540 candidates, totalling 1620 fits\n"
     ]
    }
   ],
   "source": [
    "#model_list = [model_SVR, model_RF, model_EN, model_xgb]\n",
    "model_list = [model_xgb]\n",
    "params = {model_SVR:model_SVR_params, model_RF:model_RF_params, model_EN:model_EN_params, model_xgb:model_xgb_params}\n",
    "\n",
    "print('predicting...')\n",
    "for model in model_list:\n",
    "    #sc = cross_val_score(model, tr_feature, tr_label, scoring='neg_mean_absolute_error', cv=2)\n",
    "    grid = GridSearchCV(model, params[model], verbose=True, n_jobs=1)\n",
    "    grid.fit(tr_x, tr_y)\n",
    "    pred = grid.predict(te_x)\n",
    "    sc = mean_absolute_error(te_y, pred)\n",
    "    print('')\n",
    "    print(str(model) + ' / score: ' + str(abs(np.average(sc))))"
   ]
  },
  {
   "cell_type": "markdown",
   "metadata": {},
   "source": [
    "## Test data predicting"
   ]
  },
  {
   "cell_type": "code",
   "execution_count": 8,
   "metadata": {
    "scrolled": true
   },
   "outputs": [
    {
     "name": "stdout",
     "output_type": "stream",
     "text": [
      "predicting\n",
      "csv writing\n"
     ]
    }
   ],
   "source": [
    "test_res = pd.read_csv(\"./testing_data.csv\")\n",
    "drop_feature = ['Next_Premium','Prior_Policy_Number','nequipment9','Vehicle_Make_and_Model1','Distribution_Channel','Accident_Date','Claim_Number']\n",
    "for fe in drop_feature:\n",
    "    test_res = test_res.drop(fe, axis=1)\n",
    "    \n",
    "#predicting\n",
    "print('predicting')\n",
    "test_feature = scaler_x.transform(test_res)\n",
    "pred =  grid.predict(test_feature)\n",
    "pred = np.maximum(pred, 0)\n",
    "    \n",
    "\n",
    "print('csv writing')\n",
    "#test file writing\n",
    "test_data_file = pd.read_csv(\"./testing-set.csv\")\n",
    "test_data_file['Next_Premium'] = pred\n",
    "\n",
    "test_data_file\n",
    "\n",
    "test_data_file.to_csv('Lien_dataset/lien_test_result_0828.csv', index=False)\n",
    "    "
   ]
  },
  {
   "cell_type": "markdown",
   "metadata": {},
   "source": [
    "## Model saver"
   ]
  },
  {
   "cell_type": "code",
   "execution_count": null,
   "metadata": {},
   "outputs": [],
   "source": [
    "from sklearn.externals import joblib\n",
    "\n",
    "joblib.dump(grid, 'Lien_dataset/Model_saver/xgb_0827.pkl')\n",
    "\n",
    "#model = joblib.load('Lien_dataset/Model_saver/xgb_0827.pkl')\n"
   ]
  },
  {
   "cell_type": "code",
   "execution_count": null,
   "metadata": {},
   "outputs": [],
   "source": []
  }
 ],
 "metadata": {
  "kernelspec": {
   "display_name": "Python 3",
   "language": "python",
   "name": "python3"
  },
  "language_info": {
   "codemirror_mode": {
    "name": "ipython",
    "version": 3
   },
   "file_extension": ".py",
   "mimetype": "text/x-python",
   "name": "python",
   "nbconvert_exporter": "python",
   "pygments_lexer": "ipython3",
   "version": "3.5.2"
  }
 },
 "nbformat": 4,
 "nbformat_minor": 2
}
